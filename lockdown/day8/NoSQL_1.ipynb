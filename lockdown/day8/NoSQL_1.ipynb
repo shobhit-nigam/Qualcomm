{
 "cells": [
  {
   "cell_type": "code",
   "execution_count": 1,
   "metadata": {},
   "outputs": [],
   "source": [
    "# json like documents\n",
    "# flexible & scalable"
   ]
  },
  {
   "cell_type": "code",
   "execution_count": 2,
   "metadata": {},
   "outputs": [
    {
     "name": "stdout",
     "output_type": "stream",
     "text": [
      "Collecting package metadata (current_repodata.json): done\n",
      "Solving environment: done\n",
      "\n",
      "# All requested packages already installed.\n",
      "\n",
      "\n",
      "Note: you may need to restart the kernel to use updated packages.\n"
     ]
    }
   ],
   "source": [
    "conda install pymongo"
   ]
  },
  {
   "cell_type": "code",
   "execution_count": 3,
   "metadata": {},
   "outputs": [],
   "source": [
    "import pymongo"
   ]
  },
  {
   "cell_type": "code",
   "execution_count": 4,
   "metadata": {},
   "outputs": [],
   "source": [
    "client = pymongo.MongoClient()\n",
    "db = client[\"test\"]\n",
    "# db = client.test"
   ]
  },
  {
   "cell_type": "code",
   "execution_count": 5,
   "metadata": {},
   "outputs": [
    {
     "data": {
      "text/plain": [
       "['admin', 'config', 'local']"
      ]
     },
     "execution_count": 5,
     "metadata": {},
     "output_type": "execute_result"
    }
   ],
   "source": [
    "client.list_database_names()"
   ]
  },
  {
   "cell_type": "code",
   "execution_count": 6,
   "metadata": {},
   "outputs": [],
   "source": [
    "col = db.customers"
   ]
  },
  {
   "cell_type": "code",
   "execution_count": 7,
   "metadata": {},
   "outputs": [],
   "source": [
    "#  insert_one"
   ]
  },
  {
   "cell_type": "code",
   "execution_count": 8,
   "metadata": {},
   "outputs": [],
   "source": [
    "dicta = {\"name\":\"virat\", \"sport\":\"cricket\"}"
   ]
  },
  {
   "cell_type": "code",
   "execution_count": 9,
   "metadata": {},
   "outputs": [],
   "source": [
    "objx = col.insert_one(dicta)"
   ]
  },
  {
   "cell_type": "code",
   "execution_count": 10,
   "metadata": {},
   "outputs": [
    {
     "name": "stdout",
     "output_type": "stream",
     "text": [
      "5ed0e0c33bd98d84cfdd02e9\n"
     ]
    }
   ],
   "source": [
    "print(objx.inserted_id)"
   ]
  },
  {
   "cell_type": "code",
   "execution_count": 12,
   "metadata": {},
   "outputs": [],
   "source": [
    "lista = [\n",
    "    {'name':('Edwards', 'Nancy'), 'email' :'nancy@chinookcorp.com'},\n",
    "    {'name':('Peacock', 'Jane'), 'email' : 'jane@chinookcorp.com'}, \n",
    "    {'name':('Park', 'Margaret'), 'email' : 'margaret@chinookcorp.com'}\n",
    "]"
   ]
  },
  {
   "cell_type": "code",
   "execution_count": 13,
   "metadata": {},
   "outputs": [
    {
     "data": {
      "text/plain": [
       "dict"
      ]
     },
     "execution_count": 13,
     "metadata": {},
     "output_type": "execute_result"
    }
   ],
   "source": [
    "type(lista[0])"
   ]
  },
  {
   "cell_type": "code",
   "execution_count": 14,
   "metadata": {},
   "outputs": [],
   "source": [
    "objx = col.insert_many(lista)"
   ]
  },
  {
   "cell_type": "code",
   "execution_count": 15,
   "metadata": {},
   "outputs": [
    {
     "name": "stdout",
     "output_type": "stream",
     "text": [
      "[ObjectId('5ed0e2223bd98d84cfdd02ea'), ObjectId('5ed0e2223bd98d84cfdd02eb'), ObjectId('5ed0e2223bd98d84cfdd02ec')]\n"
     ]
    }
   ],
   "source": [
    "print(objx.inserted_ids)"
   ]
  },
  {
   "cell_type": "code",
   "execution_count": 16,
   "metadata": {},
   "outputs": [],
   "source": [
    "lista = [\n",
    "    {\"_id\":4, 'name':('Edwards', 'Nancy'), 'email' :'nancy@chinookcorp.com'},\n",
    "    {\"_id\":5, 'name':('Peacock', 'Jane'), 'email' : 'jane@chinookcorp.com'}, \n",
    "    {\"_id\":6, 'name':('Park', 'Margaret'), 'email' : 'margaret@chinookcorp.com'}\n",
    "]"
   ]
  },
  {
   "cell_type": "code",
   "execution_count": 17,
   "metadata": {},
   "outputs": [],
   "source": [
    "objx = col.insert_many(lista)"
   ]
  },
  {
   "cell_type": "code",
   "execution_count": 18,
   "metadata": {},
   "outputs": [
    {
     "name": "stdout",
     "output_type": "stream",
     "text": [
      "[4, 5, 6]\n"
     ]
    }
   ],
   "source": [
    "print(objx.inserted_ids)"
   ]
  },
  {
   "cell_type": "code",
   "execution_count": 19,
   "metadata": {},
   "outputs": [],
   "source": [
    "objy = col.find_one()"
   ]
  },
  {
   "cell_type": "code",
   "execution_count": 20,
   "metadata": {},
   "outputs": [
    {
     "name": "stdout",
     "output_type": "stream",
     "text": [
      "{'_id': ObjectId('5ed0e0c33bd98d84cfdd02e9'), 'name': 'virat', 'sport': 'cricket'}\n"
     ]
    }
   ],
   "source": [
    "print(objy)"
   ]
  },
  {
   "cell_type": "code",
   "execution_count": 21,
   "metadata": {},
   "outputs": [
    {
     "name": "stdout",
     "output_type": "stream",
     "text": [
      "{'name': 'virat'}\n",
      "{'name': ['Edwards', 'Nancy']}\n",
      "{'name': ['Peacock', 'Jane']}\n",
      "{'name': ['Park', 'Margaret']}\n",
      "{'name': ['Edwards', 'Nancy']}\n",
      "{'name': ['Peacock', 'Jane']}\n",
      "{'name': ['Park', 'Margaret']}\n"
     ]
    }
   ],
   "source": [
    "for objy in col.find({}, {\"_id\":0, \"name\":1}):\n",
    "    print(objy)"
   ]
  },
  {
   "cell_type": "code",
   "execution_count": 22,
   "metadata": {},
   "outputs": [
    {
     "name": "stdout",
     "output_type": "stream",
     "text": [
      "{'name': 'virat', 'sport': 'cricket'}\n",
      "{'name': ['Edwards', 'Nancy'], 'email': 'nancy@chinookcorp.com'}\n",
      "{'name': ['Peacock', 'Jane'], 'email': 'jane@chinookcorp.com'}\n",
      "{'name': ['Park', 'Margaret'], 'email': 'margaret@chinookcorp.com'}\n",
      "{'name': ['Edwards', 'Nancy'], 'email': 'nancy@chinookcorp.com'}\n",
      "{'name': ['Peacock', 'Jane'], 'email': 'jane@chinookcorp.com'}\n",
      "{'name': ['Park', 'Margaret'], 'email': 'margaret@chinookcorp.com'}\n"
     ]
    }
   ],
   "source": [
    "for objy in col.find({}, {\"_id\":0}):\n",
    "    print(objy)"
   ]
  },
  {
   "cell_type": "code",
   "execution_count": 23,
   "metadata": {},
   "outputs": [],
   "source": [
    "query = {\"email\": 'jane@chinookcorp.com'}"
   ]
  },
  {
   "cell_type": "code",
   "execution_count": 24,
   "metadata": {},
   "outputs": [],
   "source": [
    "docx = col.find(query)"
   ]
  },
  {
   "cell_type": "code",
   "execution_count": 25,
   "metadata": {},
   "outputs": [
    {
     "name": "stdout",
     "output_type": "stream",
     "text": [
      "<pymongo.cursor.Cursor object at 0x108d2fbd0>\n"
     ]
    }
   ],
   "source": [
    "print(docx)"
   ]
  },
  {
   "cell_type": "code",
   "execution_count": 26,
   "metadata": {},
   "outputs": [
    {
     "name": "stdout",
     "output_type": "stream",
     "text": [
      "{'_id': ObjectId('5ed0e2223bd98d84cfdd02eb'), 'name': ['Peacock', 'Jane'], 'email': 'jane@chinookcorp.com'}\n",
      "{'_id': 5, 'name': ['Peacock', 'Jane'], 'email': 'jane@chinookcorp.com'}\n"
     ]
    }
   ],
   "source": [
    "for val in docx:\n",
    "    print(val)"
   ]
  },
  {
   "cell_type": "code",
   "execution_count": 27,
   "metadata": {},
   "outputs": [
    {
     "name": "stdout",
     "output_type": "stream",
     "text": [
      "{'_id': ObjectId('5ed0e2223bd98d84cfdd02ea'), 'name': ['Edwards', 'Nancy'], 'email': 'nancy@chinookcorp.com'}\n",
      "{'_id': 4, 'name': ['Edwards', 'Nancy'], 'email': 'nancy@chinookcorp.com'}\n",
      "{'_id': ObjectId('5ed0e2223bd98d84cfdd02eb'), 'name': ['Peacock', 'Jane'], 'email': 'jane@chinookcorp.com'}\n",
      "{'_id': 5, 'name': ['Peacock', 'Jane'], 'email': 'jane@chinookcorp.com'}\n",
      "{'_id': ObjectId('5ed0e2223bd98d84cfdd02ec'), 'name': ['Park', 'Margaret'], 'email': 'margaret@chinookcorp.com'}\n",
      "{'_id': 6, 'name': ['Park', 'Margaret'], 'email': 'margaret@chinookcorp.com'}\n",
      "{'_id': ObjectId('5ed0e0c33bd98d84cfdd02e9'), 'name': 'virat', 'sport': 'cricket'}\n"
     ]
    }
   ],
   "source": [
    "docx = col.find().sort(\"name\")\n",
    "\n",
    "for val in docx:\n",
    "    print(val)"
   ]
  },
  {
   "cell_type": "code",
   "execution_count": 31,
   "metadata": {},
   "outputs": [],
   "source": [
    "query = {\"_id\":\"4\"}"
   ]
  },
  {
   "cell_type": "code",
   "execution_count": 33,
   "metadata": {},
   "outputs": [
    {
     "data": {
      "text/plain": [
       "<pymongo.results.DeleteResult at 0x10880b730>"
      ]
     },
     "execution_count": 33,
     "metadata": {},
     "output_type": "execute_result"
    }
   ],
   "source": [
    "col.delete_one(query)"
   ]
  },
  {
   "cell_type": "code",
   "execution_count": 34,
   "metadata": {},
   "outputs": [
    {
     "name": "stdout",
     "output_type": "stream",
     "text": [
      "{'_id': ObjectId('5ed0e2223bd98d84cfdd02ea'), 'name': ['Edwards', 'Nancy'], 'email': 'nancy@chinookcorp.com'}\n",
      "{'_id': 4, 'name': ['Edwards', 'Nancy'], 'email': 'nancy@chinookcorp.com'}\n",
      "{'_id': ObjectId('5ed0e2223bd98d84cfdd02eb'), 'name': ['Peacock', 'Jane'], 'email': 'jane@chinookcorp.com'}\n",
      "{'_id': 5, 'name': ['Peacock', 'Jane'], 'email': 'jane@chinookcorp.com'}\n",
      "{'_id': ObjectId('5ed0e2223bd98d84cfdd02ec'), 'name': ['Park', 'Margaret'], 'email': 'margaret@chinookcorp.com'}\n",
      "{'_id': 6, 'name': ['Park', 'Margaret'], 'email': 'margaret@chinookcorp.com'}\n",
      "{'_id': ObjectId('5ed0e0c33bd98d84cfdd02e9'), 'name': 'virat', 'sport': 'cricket'}\n"
     ]
    }
   ],
   "source": [
    "docx = col.find().sort(\"name\")\n",
    "\n",
    "for val in docx:\n",
    "    print(val)"
   ]
  },
  {
   "cell_type": "code",
   "execution_count": 35,
   "metadata": {},
   "outputs": [],
   "source": [
    "query = {\"email\":\"margaret@chinookcorp.com\"}"
   ]
  },
  {
   "cell_type": "code",
   "execution_count": 36,
   "metadata": {},
   "outputs": [
    {
     "data": {
      "text/plain": [
       "<pymongo.results.DeleteResult at 0x1089706e0>"
      ]
     },
     "execution_count": 36,
     "metadata": {},
     "output_type": "execute_result"
    }
   ],
   "source": [
    "col.delete_one(query)"
   ]
  },
  {
   "cell_type": "code",
   "execution_count": 37,
   "metadata": {},
   "outputs": [],
   "source": [
    "col.drop()"
   ]
  },
  {
   "cell_type": "code",
   "execution_count": null,
   "metadata": {},
   "outputs": [],
   "source": []
  }
 ],
 "metadata": {
  "kernelspec": {
   "display_name": "Python 3",
   "language": "python",
   "name": "python3"
  },
  "language_info": {
   "codemirror_mode": {
    "name": "ipython",
    "version": 3
   },
   "file_extension": ".py",
   "mimetype": "text/x-python",
   "name": "python",
   "nbconvert_exporter": "python",
   "pygments_lexer": "ipython3",
   "version": "3.7.7"
  }
 },
 "nbformat": 4,
 "nbformat_minor": 4
}

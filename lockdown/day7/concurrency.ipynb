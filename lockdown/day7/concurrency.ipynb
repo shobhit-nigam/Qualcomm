{
 "cells": [
  {
   "cell_type": "code",
   "execution_count": 1,
   "metadata": {},
   "outputs": [],
   "source": [
    "import multiprocessing"
   ]
  },
  {
   "cell_type": "code",
   "execution_count": 3,
   "metadata": {},
   "outputs": [],
   "source": [
    "from multiprocessing import Process\n",
    "import time"
   ]
  },
  {
   "cell_type": "code",
   "execution_count": 7,
   "metadata": {},
   "outputs": [],
   "source": [
    "def funca():\n",
    "    for i in range(9, 0, -1):\n",
    "        print(\"A will take {} seconds more\".format(i))\n",
    "        time.sleep(1)\n",
    "        \n",
    "def funcb():\n",
    "    for i in range(3, 0, -1):\n",
    "        print(\"B will take {} seconds more\".format(i))\n",
    "        time.sleep(1)"
   ]
  },
  {
   "cell_type": "code",
   "execution_count": 8,
   "metadata": {},
   "outputs": [],
   "source": [
    "def funcc():\n",
    "    for i in range(6, 0, -1):\n",
    "        print(\"C will take {} seconds more\".format(i))\n",
    "        time.sleep(1)"
   ]
  },
  {
   "cell_type": "code",
   "execution_count": 6,
   "metadata": {},
   "outputs": [
    {
     "name": "stdout",
     "output_type": "stream",
     "text": [
      "A will take {} seconds more 9\n",
      "A will take {} seconds more 8\n",
      "A will take {} seconds more 7\n",
      "A will take {} seconds more 6\n",
      "A will take {} seconds more 5\n",
      "A will take {} seconds more 4\n",
      "A will take {} seconds more 3\n",
      "A will take {} seconds more 2\n",
      "A will take {} seconds more 1\n",
      "B will take {} seconds more 3\n",
      "B will take {} seconds more 2\n",
      "B will take {} seconds more 1\n",
      "C will take {} seconds more 6\n",
      "C will take {} seconds more 5\n",
      "C will take {} seconds more 4\n",
      "C will take {} seconds more 3\n",
      "C will take {} seconds more 2\n",
      "C will take {} seconds more 1\n"
     ]
    }
   ],
   "source": [
    "funca()\n",
    "funcb()\n",
    "funcc()"
   ]
  },
  {
   "cell_type": "code",
   "execution_count": 12,
   "metadata": {},
   "outputs": [],
   "source": [
    "pa = Process(target=funca)\n",
    "pb = Process(target=funcb)\n",
    "pc = Process(target=funcc)"
   ]
  },
  {
   "cell_type": "code",
   "execution_count": 13,
   "metadata": {},
   "outputs": [
    {
     "name": "stdout",
     "output_type": "stream",
     "text": [
      "A will take 9 seconds more\n",
      "B will take 3 seconds more\n",
      "C will take 6 seconds more\n",
      "A will take 8 seconds more\n",
      "B will take 2 seconds more\n",
      "C will take 5 seconds more\n",
      "A will take 7 seconds more\n",
      "B will take 1 seconds more\n",
      "C will take 4 seconds more\n",
      "A will take 6 seconds more\n",
      "C will take 3 seconds more\n",
      "A will take 5 seconds more\n",
      "C will take 2 seconds more\n",
      "A will take 4 seconds more\n",
      "C will take 1 seconds more\n",
      "A will take 3 seconds more\n",
      "A will take 2 seconds more\n",
      "A will take 1 seconds more\n"
     ]
    }
   ],
   "source": [
    "pa.start()\n",
    "pb.start()\n",
    "pc.start()\n",
    "#print(\"we are done\")"
   ]
  },
  {
   "cell_type": "code",
   "execution_count": 14,
   "metadata": {},
   "outputs": [],
   "source": [
    "def funca(n):\n",
    "    for i in range(12, 0, -1):\n",
    "        print(\"in A, n =\", n)\n",
    "        print(\"A will take {} seconds more\".format(i))\n",
    "        time.sleep(1)\n",
    "        \n",
    "def funcb():\n",
    "    for i in range(6, 0, -1):\n",
    "        print(\"B will take {} seconds more\".format(i))\n",
    "        time.sleep(1)\n",
    "        \n",
    "def funcc():\n",
    "    for i in range(9, 0, -1):\n",
    "        print(\"C will take {} seconds more\".format(i))\n",
    "        time.sleep(1)"
   ]
  },
  {
   "cell_type": "code",
   "execution_count": 15,
   "metadata": {},
   "outputs": [
    {
     "name": "stdout",
     "output_type": "stream",
     "text": [
      "in A, n = 100\n",
      "A will take 12 seconds more\n",
      "B will take 6 seconds more\n",
      "C will take 9 seconds more\n",
      "in A, n = 100\n",
      "B will take 5 seconds more\n",
      "A will take 11 seconds more\n",
      "C will take 8 seconds more\n",
      "B will take 4 seconds more\n",
      "in A, n = 100\n",
      "A will take 10 seconds more\n",
      "C will take 7 seconds more\n",
      "B will take 3 seconds more\n",
      "in A, n = 100\n",
      "A will take 9 seconds more\n",
      "C will take 6 seconds more\n",
      "B will take 2 seconds more\n",
      "in A, n = 100\n",
      "C will take 5 seconds more\n",
      "A will take 8 seconds more\n",
      "B will take 1 seconds more\n",
      "in A, n = 100\n",
      "C will take 4 seconds more\n",
      "A will take 7 seconds more\n",
      "C will take 3 seconds more\n",
      "in A, n = 100\n",
      "A will take 6 seconds more\n",
      "C will take 2 seconds more\n",
      "in A, n = 100\n",
      "A will take 5 seconds more\n",
      "C will take 1 seconds more\n",
      "in A, n = 100\n",
      "A will take 4 seconds more\n",
      "in A, n = 100\n",
      "A will take 3 seconds more\n",
      "in A, n = 100\n",
      "A will take 2 seconds more\n",
      "in A, n = 100\n",
      "A will take 1 seconds more\n"
     ]
    }
   ],
   "source": [
    "pa = Process(target=funca, args = (100, ))\n",
    "pb = Process(target=funcb)\n",
    "pc = Process(target=funcc)\n",
    "\n",
    "pa.start()\n",
    "pb.start()\n",
    "pc.start()"
   ]
  },
  {
   "cell_type": "code",
   "execution_count": 16,
   "metadata": {},
   "outputs": [],
   "source": [
    "def funca():\n",
    "    for i in range(9, 0, -1):\n",
    "        print(\"A will take {} seconds more\".format(i))\n",
    "        time.sleep(1)\n",
    "        \n",
    "def funcb():\n",
    "    for i in range(3, 0, -1):\n",
    "        print(\"B will take {} seconds more\".format(i))\n",
    "        time.sleep(1)\n",
    "\n",
    "def funcc():\n",
    "    for i in range(6, 0, -1):\n",
    "        print(\"C will take {} seconds more\".format(i))\n",
    "        time.sleep(1)"
   ]
  },
  {
   "cell_type": "code",
   "execution_count": 17,
   "metadata": {},
   "outputs": [],
   "source": [
    "from threading import Thread\n"
   ]
  },
  {
   "cell_type": "code",
   "execution_count": 19,
   "metadata": {},
   "outputs": [
    {
     "name": "stdout",
     "output_type": "stream",
     "text": [
      "A will take 9 seconds more\n",
      "B will take 3 seconds more\n",
      "C will take 6 seconds more\n",
      "A will take 8 seconds more\n",
      "B will take 2 seconds moreC will take 5 seconds more\n",
      "\n",
      "A will take 7 seconds more\n",
      "C will take 4 seconds moreB will take 1 seconds more\n",
      "\n",
      "A will take 6 seconds more\n",
      "C will take 3 seconds more\n",
      "A will take 5 seconds moreC will take 2 seconds more\n",
      "\n",
      "A will take 4 seconds moreC will take 1 seconds more\n",
      "\n",
      "A will take 3 seconds more\n",
      "A will take 2 seconds more\n",
      "A will take 1 seconds more\n"
     ]
    }
   ],
   "source": [
    "ta = Thread(target=funca)\n",
    "tb = Thread(target=funcb)\n",
    "tc = Thread(target=funcc)\n",
    "\n",
    "ta.start()\n",
    "tb.start()\n",
    "tc.start()"
   ]
  },
  {
   "cell_type": "code",
   "execution_count": null,
   "metadata": {},
   "outputs": [],
   "source": []
  }
 ],
 "metadata": {
  "kernelspec": {
   "display_name": "Python 3",
   "language": "python",
   "name": "python3"
  },
  "language_info": {
   "codemirror_mode": {
    "name": "ipython",
    "version": 3
   },
   "file_extension": ".py",
   "mimetype": "text/x-python",
   "name": "python",
   "nbconvert_exporter": "python",
   "pygments_lexer": "ipython3",
   "version": "3.7.7"
  }
 },
 "nbformat": 4,
 "nbformat_minor": 4
}

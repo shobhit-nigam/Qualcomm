{
 "cells": [
  {
   "cell_type": "code",
   "execution_count": 5,
   "metadata": {},
   "outputs": [
    {
     "name": "stdout",
     "output_type": "stream",
     "text": [
      "asia\n",
      "it's a match\n"
     ]
    }
   ],
   "source": [
    "import re\n",
    "\n",
    "stra = input()\n",
    "pat = \"^a..a$\"\n",
    "\n",
    "res = re.match(pat, stra)\n",
    "\n",
    "if res:\n",
    "    print(\"it's a match\")\n",
    "else:\n",
    "    print(\"it's not a match\")"
   ]
  },
  {
   "cell_type": "code",
   "execution_count": 6,
   "metadata": {},
   "outputs": [
    {
     "data": {
      "text/plain": [
       "re.Match"
      ]
     },
     "execution_count": 6,
     "metadata": {},
     "output_type": "execute_result"
    }
   ],
   "source": [
    "type(res)"
   ]
  },
  {
   "cell_type": "code",
   "execution_count": 7,
   "metadata": {},
   "outputs": [
    {
     "name": "stdout",
     "output_type": "stream",
     "text": [
      "<re.Match object; span=(0, 4), match='asia'>\n"
     ]
    }
   ],
   "source": [
    "print(res)"
   ]
  },
  {
   "cell_type": "code",
   "execution_count": 8,
   "metadata": {},
   "outputs": [],
   "source": [
    "fc = open(\"some.txt\", \"r\")\n",
    "stra = fc.read()"
   ]
  },
  {
   "cell_type": "code",
   "execution_count": 9,
   "metadata": {},
   "outputs": [
    {
     "name": "stdout",
     "output_type": "stream",
     "text": [
      "['23', '43', '45']\n"
     ]
    }
   ],
   "source": [
    "pat = \"\\d+\"\n",
    "\n",
    "res = re.findall(pat, stra)\n",
    "\n",
    "print(res)"
   ]
  },
  {
   "cell_type": "code",
   "execution_count": 10,
   "metadata": {},
   "outputs": [
    {
     "name": "stdout",
     "output_type": "stream",
     "text": [
      "[]\n"
     ]
    }
   ],
   "source": [
    "pat = \"\\d{3,7}\"\n",
    "\n",
    "res = re.findall(pat, stra)\n",
    "\n",
    "print(res)"
   ]
  },
  {
   "cell_type": "code",
   "execution_count": 12,
   "metadata": {},
   "outputs": [],
   "source": [
    "fc.close()"
   ]
  },
  {
   "cell_type": "code",
   "execution_count": 13,
   "metadata": {},
   "outputs": [
    {
     "name": "stdout",
     "output_type": "stream",
     "text": [
      "['hi:23', 'hello:43', 'hey', '45', 'thor:hammer', 'ironman:suit', 'hawkeye:arrows']\n"
     ]
    }
   ],
   "source": [
    "fc = open(\"some.txt\", \"r\")\n",
    "stra = fc.read()\n",
    "lista = stra.split()\n",
    "\n",
    "print(lista)"
   ]
  },
  {
   "cell_type": "code",
   "execution_count": 16,
   "metadata": {},
   "outputs": [
    {
     "name": "stdout",
     "output_type": "stream",
     "text": [
      "['hi:23', 'hello:43', 'hey', '45', 'thor:hammer', 'ironman:suit', 'hawkeye:arrows']\n"
     ]
    }
   ],
   "source": [
    "fc = open(\"some.txt\", \"r\")\n",
    "stra = fc.read()\n",
    "pat = '\\s+'\n",
    "\n",
    "res = re.split(pat, stra)\n",
    "\n",
    "print(res)"
   ]
  },
  {
   "cell_type": "code",
   "execution_count": 19,
   "metadata": {},
   "outputs": [
    {
     "name": "stdout",
     "output_type": "stream",
     "text": [
      "['hi', '23 hello', '43 hey 45\\nthor:hammer\\nironman:suit\\nhawkeye:arrows']\n"
     ]
    }
   ],
   "source": [
    "fc = open(\"some.txt\", \"r\")\n",
    "stra = fc.read()\n",
    "pat = ':'\n",
    "\n",
    "res = re.split(pat, stra, 2)\n",
    "\n",
    "print(res)"
   ]
  },
  {
   "cell_type": "code",
   "execution_count": 20,
   "metadata": {},
   "outputs": [],
   "source": [
    "fc.close()"
   ]
  },
  {
   "cell_type": "code",
   "execution_count": 24,
   "metadata": {},
   "outputs": [
    {
     "name": "stdout",
     "output_type": "stream",
     "text": [
      "_hi:23_hello:43_hey_45\n",
      "thor:hammer\n",
      "hi        he\n",
      "ironman:suit\n",
      "hawkeye:arrows\n"
     ]
    }
   ],
   "source": [
    "fc = open(\"some.txt\", \"r\")\n",
    "stra = fc.read()\n",
    "fc.close()\n",
    "pat = '\\s+'\n",
    "rep = '_'\n",
    "\n",
    "res = re.sub(pat, rep, stra, 4)\n",
    "\n",
    "print(res)"
   ]
  },
  {
   "cell_type": "code",
   "execution_count": 26,
   "metadata": {},
   "outputs": [
    {
     "name": "stdout",
     "output_type": "stream",
     "text": [
      "['Suit', 'suit', 'Suit']\n"
     ]
    }
   ],
   "source": [
    "fc = open(\"some.txt\", \"r\")\n",
    "stra = fc.read()\n",
    "fc.close()\n",
    "pat = 'suit'\n",
    "\n",
    "res = re.findall(pat, stra, re.IGNORECASE)\n",
    "\n",
    "print(res)"
   ]
  },
  {
   "cell_type": "code",
   "execution_count": 30,
   "metadata": {},
   "outputs": [
    {
     "name": "stdout",
     "output_type": "stream",
     "text": [
      "['q', 'w', 'e', 'r', 't', 'y', 'u', 'u', 'u']\n"
     ]
    }
   ],
   "source": [
    "strd = \"\"\"qwe\n",
    "rty\n",
    "uuu\n",
    "\"\"\"\n",
    "pat = \"\\w\"\n",
    "\n",
    "res = re.findall(pat, strd)\n",
    "print(res)"
   ]
  },
  {
   "cell_type": "code",
   "execution_count": 38,
   "metadata": {},
   "outputs": [
    {
     "name": "stdout",
     "output_type": "stream",
     "text": [
      "found\n"
     ]
    }
   ],
   "source": [
    "stre = \"♥α\"\n",
    "\n",
    "res = re.search(u\"\\w+\", stre, re.U)\n",
    "\n",
    "if res:\n",
    "    print(\"found\")\n",
    "else:\n",
    "    print(\"not found\")"
   ]
  },
  {
   "cell_type": "code",
   "execution_count": 37,
   "metadata": {},
   "outputs": [
    {
     "data": {
      "text/plain": [
       "'re.search and grouping'"
      ]
     },
     "execution_count": 37,
     "metadata": {},
     "output_type": "execute_result"
    }
   ],
   "source": [
    "\"re.search and grouping\""
   ]
  },
  {
   "cell_type": "code",
   "execution_count": null,
   "metadata": {},
   "outputs": [],
   "source": []
  }
 ],
 "metadata": {
  "kernelspec": {
   "display_name": "Python 3",
   "language": "python",
   "name": "python3"
  },
  "language_info": {
   "codemirror_mode": {
    "name": "ipython",
    "version": 3
   },
   "file_extension": ".py",
   "mimetype": "text/x-python",
   "name": "python",
   "nbconvert_exporter": "python",
   "pygments_lexer": "ipython3",
   "version": "3.7.7"
  }
 },
 "nbformat": 4,
 "nbformat_minor": 4
}

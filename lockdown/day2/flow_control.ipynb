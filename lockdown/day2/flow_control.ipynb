{
 "cells": [
  {
   "cell_type": "code",
   "execution_count": 1,
   "metadata": {},
   "outputs": [],
   "source": [
    "a, b, c = 33, 100, 50"
   ]
  },
  {
   "cell_type": "code",
   "execution_count": 2,
   "metadata": {},
   "outputs": [
    {
     "name": "stdout",
     "output_type": "stream",
     "text": [
      "a is more or equal to 30\n"
     ]
    }
   ],
   "source": [
    "if a<30:\n",
    "    print(\"a is less than 30\")\n",
    "    #   some more code\n",
    "else:\n",
    "    print(\"a is more or equal to 30\")"
   ]
  },
  {
   "cell_type": "code",
   "execution_count": 4,
   "metadata": {},
   "outputs": [
    {
     "name": "stdout",
     "output_type": "stream",
     "text": [
      "a is in between 30 & 70\n",
      "last line\n"
     ]
    }
   ],
   "source": [
    "if a<30:\n",
    "    print(\"a is less than 30\")\n",
    "    #   some more code\n",
    "elif a>=30 and a<=70:\n",
    "    print(\"a is in between 30 & 70\")\n",
    "else:\n",
    "    print(\"a is more then 70\")\n",
    "print(\"last line\")"
   ]
  },
  {
   "cell_type": "code",
   "execution_count": 5,
   "metadata": {},
   "outputs": [],
   "source": [
    "data = False"
   ]
  },
  {
   "cell_type": "code",
   "execution_count": 6,
   "metadata": {},
   "outputs": [
    {
     "name": "stdout",
     "output_type": "stream",
     "text": [
      "hello\n"
     ]
    }
   ],
   "source": [
    "if data:\n",
    "    print(\"hi\")\n",
    "else:\n",
    "    print(\"hello\")"
   ]
  },
  {
   "cell_type": "code",
   "execution_count": 7,
   "metadata": {},
   "outputs": [
    {
     "name": "stdout",
     "output_type": "stream",
     "text": [
      "a = 33\n",
      "a = 34\n",
      "a = 35\n"
     ]
    }
   ],
   "source": [
    "while(a<36):\n",
    "    print(\"a =\", a)\n",
    "    a = a+1"
   ]
  },
  {
   "cell_type": "code",
   "execution_count": 8,
   "metadata": {},
   "outputs": [],
   "source": [
    "if ((a==33) and (b>50) and (c<100)):\n",
    "    print(\"hey\")"
   ]
  },
  {
   "cell_type": "code",
   "execution_count": 9,
   "metadata": {},
   "outputs": [],
   "source": [
    "if a==33 and b>50 and c<100:\n",
    "    print(\"hey\")"
   ]
  },
  {
   "cell_type": "code",
   "execution_count": 12,
   "metadata": {},
   "outputs": [],
   "source": [
    "if ((a==33) and (c>50)) and (c<100):\n",
    "    print(\"hey\")"
   ]
  },
  {
   "cell_type": "code",
   "execution_count": 13,
   "metadata": {},
   "outputs": [
    {
     "name": "stdout",
     "output_type": "stream",
     "text": [
      "true\n"
     ]
    }
   ],
   "source": [
    "if a<50 and a>25:\n",
    "    print(\"true\")"
   ]
  },
  {
   "cell_type": "code",
   "execution_count": 15,
   "metadata": {},
   "outputs": [
    {
     "data": {
      "text/plain": [
       "True"
      ]
     },
     "execution_count": 15,
     "metadata": {},
     "output_type": "execute_result"
    }
   ],
   "source": [
    "25 < a < 50 #chaining of operators"
   ]
  },
  {
   "cell_type": "code",
   "execution_count": 16,
   "metadata": {},
   "outputs": [],
   "source": [
    "if ((a==33) and (b>50) and (c<100)): print(\"hey\")"
   ]
  },
  {
   "cell_type": "code",
   "execution_count": 17,
   "metadata": {},
   "outputs": [],
   "source": [
    "lista = ['hyderabad', 'chennai', 'mysuru', 'bangalore']"
   ]
  },
  {
   "cell_type": "code",
   "execution_count": 18,
   "metadata": {},
   "outputs": [
    {
     "name": "stdout",
     "output_type": "stream",
     "text": [
      "city =  hyderabad\n",
      "city =  chennai\n",
      "city =  mysuru\n",
      "city =  bangalore\n"
     ]
    }
   ],
   "source": [
    "for city in lista:\n",
    "    print(\"city = \", city)"
   ]
  },
  {
   "cell_type": "code",
   "execution_count": 19,
   "metadata": {},
   "outputs": [
    {
     "name": "stdout",
     "output_type": "stream",
     "text": [
      "i = c\n",
      "i = h\n",
      "i = e\n",
      "i = n\n",
      "i = n\n",
      "i = a\n",
      "i = i\n"
     ]
    }
   ],
   "source": [
    "for i in lista[1]:\n",
    "    print(\"i =\", i)"
   ]
  },
  {
   "cell_type": "code",
   "execution_count": 20,
   "metadata": {},
   "outputs": [
    {
     "name": "stdout",
     "output_type": "stream",
     "text": [
      "city =  hyderabad\n",
      "city =  chennai\n",
      "city =  mysuru\n"
     ]
    }
   ],
   "source": [
    "for city in lista[0:3]:\n",
    "    print(\"city = \", city)"
   ]
  },
  {
   "cell_type": "code",
   "execution_count": 21,
   "metadata": {},
   "outputs": [],
   "source": [
    "dicta = {'thor':'hammer', 'hulk':'smash', 'captain':'shield', 'ironman':'suit'}"
   ]
  },
  {
   "cell_type": "code",
   "execution_count": 22,
   "metadata": {},
   "outputs": [
    {
     "name": "stdout",
     "output_type": "stream",
     "text": [
      "thor\n",
      "hulk\n",
      "captain\n",
      "ironman\n"
     ]
    }
   ],
   "source": [
    "for key in dicta:\n",
    "    print(key)"
   ]
  },
  {
   "cell_type": "code",
   "execution_count": 23,
   "metadata": {},
   "outputs": [
    {
     "name": "stdout",
     "output_type": "stream",
     "text": [
      "thor : hammer\n",
      "hulk : smash\n",
      "captain : shield\n",
      "ironman : suit\n"
     ]
    }
   ],
   "source": [
    "for key in dicta:\n",
    "    print(key, ':', dicta[key])"
   ]
  },
  {
   "cell_type": "code",
   "execution_count": 25,
   "metadata": {},
   "outputs": [
    {
     "name": "stdout",
     "output_type": "stream",
     "text": [
      "thor : hammer\n",
      "hulk : smash\n",
      "captain : shield\n",
      "ironman : suit\n"
     ]
    }
   ],
   "source": [
    "for key, val in dicta.items():\n",
    "    print(key, ':', val)"
   ]
  },
  {
   "cell_type": "code",
   "execution_count": 26,
   "metadata": {},
   "outputs": [
    {
     "name": "stdout",
     "output_type": "stream",
     "text": [
      "i = 0\n",
      "i = 1\n",
      "i = 2\n",
      "i = 3\n"
     ]
    }
   ],
   "source": [
    "for i in range(4):\n",
    "    print(\"i =\", i)"
   ]
  },
  {
   "cell_type": "code",
   "execution_count": 27,
   "metadata": {},
   "outputs": [
    {
     "name": "stdout",
     "output_type": "stream",
     "text": [
      "i = 2\n",
      "i = 3\n",
      "i = 4\n",
      "i = 5\n"
     ]
    }
   ],
   "source": [
    "for i in range(2,6):\n",
    "    print(\"i =\", i)"
   ]
  },
  {
   "cell_type": "code",
   "execution_count": 28,
   "metadata": {},
   "outputs": [
    {
     "name": "stdout",
     "output_type": "stream",
     "text": [
      "i = 1\n",
      "i = 4\n",
      "i = 7\n",
      "i = 10\n",
      "i = 13\n"
     ]
    }
   ],
   "source": [
    "for i in range(1, 14, 3):\n",
    "    print(\"i =\", i)"
   ]
  },
  {
   "cell_type": "code",
   "execution_count": 30,
   "metadata": {},
   "outputs": [
    {
     "name": "stdout",
     "output_type": "stream",
     "text": [
      "i = -1\n",
      "i = -2\n",
      "i = -3\n",
      "i = -4\n"
     ]
    }
   ],
   "source": [
    "for i in range(-1, -5, -1):\n",
    "    print(\"i =\", i)"
   ]
  },
  {
   "cell_type": "code",
   "execution_count": 31,
   "metadata": {},
   "outputs": [],
   "source": [
    "#   yield"
   ]
  },
  {
   "cell_type": "code",
   "execution_count": 32,
   "metadata": {},
   "outputs": [
    {
     "name": "stdout",
     "output_type": "stream",
     "text": [
      "i = 10\n",
      "i = 9\n",
      "i = 8\n",
      "i = 7\n",
      "i = 6\n"
     ]
    }
   ],
   "source": [
    "for i in range(10, 5, -1):\n",
    "    print(\"i =\", i)"
   ]
  },
  {
   "cell_type": "code",
   "execution_count": 33,
   "metadata": {},
   "outputs": [],
   "source": [
    "lista = ['hyderabad', 'chennai', 'mysuru', 'bangalore', 'pune', 'cuttack']"
   ]
  },
  {
   "cell_type": "code",
   "execution_count": 34,
   "metadata": {},
   "outputs": [
    {
     "data": {
      "text/plain": [
       "['hyderabad', 'mysuru', 'pune']"
      ]
     },
     "execution_count": 34,
     "metadata": {},
     "output_type": "execute_result"
    }
   ],
   "source": [
    "lista[0:5:2]"
   ]
  },
  {
   "cell_type": "code",
   "execution_count": 35,
   "metadata": {},
   "outputs": [
    {
     "data": {
      "text/plain": [
       "['hyderabad', 'mysuru', 'pune']"
      ]
     },
     "execution_count": 35,
     "metadata": {},
     "output_type": "execute_result"
    }
   ],
   "source": [
    "lista[::2]"
   ]
  },
  {
   "cell_type": "code",
   "execution_count": 36,
   "metadata": {},
   "outputs": [
    {
     "data": {
      "text/plain": [
       "['cuttack', 'pune', 'bangalore', 'mysuru', 'chennai', 'hyderabad']"
      ]
     },
     "execution_count": 36,
     "metadata": {},
     "output_type": "execute_result"
    }
   ],
   "source": [
    "lista[::-1]"
   ]
  },
  {
   "cell_type": "code",
   "execution_count": 37,
   "metadata": {},
   "outputs": [],
   "source": [
    "dicta = {'thor':['hammer', 'beer'], 'hulk':['smash', 'science'], 'captain':['shield', 'hammer']}"
   ]
  },
  {
   "cell_type": "code",
   "execution_count": 38,
   "metadata": {},
   "outputs": [
    {
     "data": {
      "text/plain": [
       "{'thor': ['hammer', 'beer'],\n",
       " 'hulk': ['smash', 'science'],\n",
       " 'captain': ['shield', 'hammer']}"
      ]
     },
     "execution_count": 38,
     "metadata": {},
     "output_type": "execute_result"
    }
   ],
   "source": [
    "dicta"
   ]
  },
  {
   "cell_type": "code",
   "execution_count": 39,
   "metadata": {},
   "outputs": [],
   "source": [
    "for k, v in dicta.items():\n",
    "    dicta[k] = \"zero\""
   ]
  },
  {
   "cell_type": "code",
   "execution_count": 40,
   "metadata": {},
   "outputs": [
    {
     "data": {
      "text/plain": [
       "{'thor': 'zero', 'hulk': 'zero', 'captain': 'zero'}"
      ]
     },
     "execution_count": 40,
     "metadata": {},
     "output_type": "execute_result"
    }
   ],
   "source": [
    "dicta"
   ]
  },
  {
   "cell_type": "code",
   "execution_count": 45,
   "metadata": {},
   "outputs": [],
   "source": [
    "dicta = {'thor':['hammer', 'beer'], 'hulk':['smash', 'science'], 'captain':['shield', 'hammer']}"
   ]
  },
  {
   "cell_type": "code",
   "execution_count": 43,
   "metadata": {},
   "outputs": [],
   "source": [
    "for k, v in dicta.items():\n",
    "    v.append(33)"
   ]
  },
  {
   "cell_type": "code",
   "execution_count": 44,
   "metadata": {},
   "outputs": [
    {
     "data": {
      "text/plain": [
       "{'thor': ['hammer', 'beer', 33],\n",
       " 'hulk': ['smash', 'science', 33],\n",
       " 'captain': ['shield', 'hammer', 33]}"
      ]
     },
     "execution_count": 44,
     "metadata": {},
     "output_type": "execute_result"
    }
   ],
   "source": [
    "dicta"
   ]
  },
  {
   "cell_type": "code",
   "execution_count": 46,
   "metadata": {},
   "outputs": [
    {
     "data": {
      "text/plain": [
       "{'thor': ['hammer', 'beer'],\n",
       " 'hulk': ['smash', 'science'],\n",
       " 'captain': ['shield', 'hammer']}"
      ]
     },
     "execution_count": 46,
     "metadata": {},
     "output_type": "execute_result"
    }
   ],
   "source": [
    "dicta"
   ]
  },
  {
   "cell_type": "code",
   "execution_count": 47,
   "metadata": {},
   "outputs": [],
   "source": [
    "for k, v in dicta.items():\n",
    "    if k == 'hulk':\n",
    "        v.append(33)"
   ]
  },
  {
   "cell_type": "code",
   "execution_count": 48,
   "metadata": {},
   "outputs": [
    {
     "data": {
      "text/plain": [
       "{'thor': ['hammer', 'beer'],\n",
       " 'hulk': ['smash', 'science', 33],\n",
       " 'captain': ['shield', 'hammer']}"
      ]
     },
     "execution_count": 48,
     "metadata": {},
     "output_type": "execute_result"
    }
   ],
   "source": [
    "dicta"
   ]
  },
  {
   "cell_type": "code",
   "execution_count": 49,
   "metadata": {},
   "outputs": [],
   "source": [
    "lista = ['hyderabad', 'chennai', 'mysuru', 'bangalore', 'pune', 'cuttack']"
   ]
  },
  {
   "cell_type": "code",
   "execution_count": 50,
   "metadata": {},
   "outputs": [
    {
     "ename": "ValueError",
     "evalue": "'kochi' is not in list",
     "output_type": "error",
     "traceback": [
      "\u001b[0;31m---------------------------------------------------------------------------\u001b[0m",
      "\u001b[0;31mValueError\u001b[0m                                Traceback (most recent call last)",
      "\u001b[0;32m<ipython-input-50-03dd4b7f3aac>\u001b[0m in \u001b[0;36m<module>\u001b[0;34m\u001b[0m\n\u001b[0;32m----> 1\u001b[0;31m \u001b[0mlista\u001b[0m\u001b[0;34m.\u001b[0m\u001b[0mindex\u001b[0m\u001b[0;34m(\u001b[0m\u001b[0;34m'kochi'\u001b[0m\u001b[0;34m)\u001b[0m\u001b[0;34m\u001b[0m\u001b[0;34m\u001b[0m\u001b[0m\n\u001b[0m",
      "\u001b[0;31mValueError\u001b[0m: 'kochi' is not in list"
     ]
    }
   ],
   "source": [
    "lista.index('kochi')"
   ]
  },
  {
   "cell_type": "code",
   "execution_count": 51,
   "metadata": {},
   "outputs": [
    {
     "name": "stdout",
     "output_type": "stream",
     "text": [
      "found mysuru\n"
     ]
    }
   ],
   "source": [
    "for city in lista:\n",
    "    if city == 'mysuru':\n",
    "        print(\"found mysuru\")\n",
    "        break"
   ]
  },
  {
   "cell_type": "code",
   "execution_count": 52,
   "metadata": {},
   "outputs": [
    {
     "name": "stdout",
     "output_type": "stream",
     "text": [
      "not found\n",
      "not found\n",
      "found mysuru\n"
     ]
    }
   ],
   "source": [
    "for city in lista:\n",
    "    if city == 'mysuru':\n",
    "        print(\"found mysuru\")\n",
    "        break\n",
    "    else:\n",
    "        print(\"not found\")"
   ]
  },
  {
   "cell_type": "code",
   "execution_count": 53,
   "metadata": {},
   "outputs": [
    {
     "name": "stdout",
     "output_type": "stream",
     "text": [
      "not found\n",
      "not found\n",
      "not found\n",
      "not found\n",
      "not found\n",
      "not found\n"
     ]
    }
   ],
   "source": [
    "for city in lista:\n",
    "    if city == 'kochi':\n",
    "        print(\"found kochi\")\n",
    "        break\n",
    "    else:\n",
    "        print(\"not found\")"
   ]
  },
  {
   "cell_type": "code",
   "execution_count": 54,
   "metadata": {},
   "outputs": [
    {
     "name": "stdout",
     "output_type": "stream",
     "text": [
      "not found\n"
     ]
    }
   ],
   "source": [
    "for city in lista:\n",
    "    if city == 'kochi':\n",
    "        print(\"found kochi\")\n",
    "        break\n",
    "else:\n",
    "    print(\"not found\")"
   ]
  },
  {
   "cell_type": "code",
   "execution_count": 55,
   "metadata": {},
   "outputs": [
    {
     "name": "stdout",
     "output_type": "stream",
     "text": [
      "found mysuru\n"
     ]
    }
   ],
   "source": [
    "for city in lista:\n",
    "    if city == 'mysuru':\n",
    "        print(\"found mysuru\")\n",
    "        break\n",
    "else:\n",
    "    print(\"not found\")"
   ]
  },
  {
   "cell_type": "code",
   "execution_count": 56,
   "metadata": {},
   "outputs": [
    {
     "name": "stdout",
     "output_type": "stream",
     "text": [
      "found cuttack\n",
      "not found\n"
     ]
    }
   ],
   "source": [
    "for city in lista:\n",
    "    if city == 'cuttack':\n",
    "        print(\"found cuttack\")\n",
    "else:\n",
    "    print(\"not found\")"
   ]
  },
  {
   "cell_type": "code",
   "execution_count": 57,
   "metadata": {},
   "outputs": [
    {
     "name": "stdout",
     "output_type": "stream",
     "text": [
      "not found\n"
     ]
    }
   ],
   "source": [
    "for city in lista:\n",
    "    if city == 'kochi':\n",
    "        print(\"found kochi\")\n",
    "else:\n",
    "    print(\"not found\")"
   ]
  },
  {
   "cell_type": "code",
   "execution_count": 58,
   "metadata": {},
   "outputs": [
    {
     "name": "stdout",
     "output_type": "stream",
     "text": [
      "found mysuru\n"
     ]
    }
   ],
   "source": [
    "for city in lista:\n",
    "    if city == 'mysuru':\n",
    "        print(\"found mysuru\")\n",
    "        break\n",
    "else:\n",
    "    print(\"not found\")"
   ]
  },
  {
   "cell_type": "code",
   "execution_count": 59,
   "metadata": {},
   "outputs": [
    {
     "name": "stdout",
     "output_type": "stream",
     "text": [
      "tea break\n",
      "coffee break\n",
      "no tea break\n",
      "tea break\n",
      "coffee break\n",
      "no tea break\n",
      "no tea break\n",
      "tea break\n",
      "coffee break\n"
     ]
    }
   ],
   "source": [
    "for i in range(0, 3):\n",
    "    for j in range(0, 3):\n",
    "        if (i==j):\n",
    "            print(\"tea break\")\n",
    "            break\n",
    "        else:\n",
    "            print(\"no tea break\")\n",
    "    print(\"coffee break\")"
   ]
  },
  {
   "cell_type": "code",
   "execution_count": 60,
   "metadata": {},
   "outputs": [],
   "source": [
    "#   continue\n",
    "#   enumerate()"
   ]
  },
  {
   "cell_type": "code",
   "execution_count": null,
   "metadata": {},
   "outputs": [],
   "source": []
  }
 ],
 "metadata": {
  "kernelspec": {
   "display_name": "Python 3",
   "language": "python",
   "name": "python3"
  },
  "language_info": {
   "codemirror_mode": {
    "name": "ipython",
    "version": 3
   },
   "file_extension": ".py",
   "mimetype": "text/x-python",
   "name": "python",
   "nbconvert_exporter": "python",
   "pygments_lexer": "ipython3",
   "version": "3.7.7"
  }
 },
 "nbformat": 4,
 "nbformat_minor": 4
}
